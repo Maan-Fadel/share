{
 "cells": [
  {
   "cell_type": "markdown",
   "metadata": {},
   "source": [
    "# Conda-Forge Download Statistics\n",
    "\n",
    "This notebook demonstrates how to load and use Conda-forge\n",
    "package data.  For more details, see the [Github repository](https://github.com/ContinuumIO/anaconda-package-data/blob/master/README.md).  Due to limitations on Binder, you might find some of the analysis examples below run slowly or require more memory than is available on the Binder instance.  Feel free to download this notebook locally and run it.\n",
    "\n",
    "\n",
    "## Setting up\n",
    "\n",
    "To start we need to install the needed packages by running `conda install dask intake numpy pandas` and `conda install -c conda-forge hvplot`. Then we can import the packages:"
   ]
  },
  {
   "cell_type": "code",
   "execution_count": 104,
   "metadata": {},
   "outputs": [],
   "source": [
    "# !conda install -c conda-forge --yes hvplot intake intake-parquet"
   ]
  },
  {
   "cell_type": "code",
   "execution_count": 105,
   "metadata": {},
   "outputs": [],
   "source": [
    "import dask.dataframe as dd\n",
    "from datetime import datetime\n",
    "import hvplot.pandas\n",
    "import intake\n",
    "import numpy as np\n",
    "import pandas as pd"
   ]
  },
  {
   "cell_type": "code",
   "execution_count": 3,
   "metadata": {},
   "outputs": [],
   "source": [
    "import distributed"
   ]
  },
  {
   "cell_type": "code",
   "execution_count": 4,
   "metadata": {},
   "outputs": [],
   "source": [
    "client = distributed.Client()"
   ]
  },
  {
   "cell_type": "markdown",
   "metadata": {},
   "source": [
    "## Loading Data\n",
    "\n",
    "There are multiple ways to load Anaconda package data. Below we show examples of loading one month of data for December 2018.\n",
    "\n",
    "#### Method 1:  load data from S3 url\n",
    "\n",
    "First, we can read parquet files directly from S3 url. We recommend using `dask.dataframe` to read data files into a Dask DataFrame. Please visit the [Dask website](http://docs.dask.org/en/latest/dataframe.html) for more information."
   ]
  },
  {
   "cell_type": "code",
   "execution_count": 12,
   "metadata": {},
   "outputs": [],
   "source": [
    "df = dd.read_parquet(\n",
    "    's3://anaconda-package-data/conda/hourly/*/*/*.parquet',\n",
    "    columns=['time', 'data_source', 'counts', 'pkg_name', 'pkg_python'],\n",
    "    filters=[('data_source', '=', 'conda-forge')],\n",
    "    storage_options={'anon': True}\n",
    ")"
   ]
  },
  {
   "cell_type": "code",
   "execution_count": 106,
   "metadata": {},
   "outputs": [],
   "source": [
    "# Filter out non-conda-forge\n",
    "df_conda_forge_only = df[df.data_source == 'conda-forge']"
   ]
  },
  {
   "cell_type": "code",
   "execution_count": 14,
   "metadata": {},
   "outputs": [
    {
     "data": {
      "text/html": [
       "<div><strong>Dask DataFrame Structure:</strong></div>\n",
       "<div>\n",
       "<style scoped>\n",
       "    .dataframe tbody tr th:only-of-type {\n",
       "        vertical-align: middle;\n",
       "    }\n",
       "\n",
       "    .dataframe tbody tr th {\n",
       "        vertical-align: top;\n",
       "    }\n",
       "\n",
       "    .dataframe thead th {\n",
       "        text-align: right;\n",
       "    }\n",
       "</style>\n",
       "<table border=\"1\" class=\"dataframe\">\n",
       "  <thead>\n",
       "    <tr style=\"text-align: right;\">\n",
       "      <th></th>\n",
       "      <th>time</th>\n",
       "      <th>data_source</th>\n",
       "      <th>counts</th>\n",
       "      <th>pkg_name</th>\n",
       "      <th>pkg_python</th>\n",
       "    </tr>\n",
       "    <tr>\n",
       "      <th>npartitions=877</th>\n",
       "      <th></th>\n",
       "      <th></th>\n",
       "      <th></th>\n",
       "      <th></th>\n",
       "      <th></th>\n",
       "    </tr>\n",
       "  </thead>\n",
       "  <tbody>\n",
       "    <tr>\n",
       "      <th></th>\n",
       "      <td>datetime64[ns]</td>\n",
       "      <td>category[unknown]</td>\n",
       "      <td>int64</td>\n",
       "      <td>category[unknown]</td>\n",
       "      <td>category[unknown]</td>\n",
       "    </tr>\n",
       "    <tr>\n",
       "      <th></th>\n",
       "      <td>...</td>\n",
       "      <td>...</td>\n",
       "      <td>...</td>\n",
       "      <td>...</td>\n",
       "      <td>...</td>\n",
       "    </tr>\n",
       "    <tr>\n",
       "      <th>...</th>\n",
       "      <td>...</td>\n",
       "      <td>...</td>\n",
       "      <td>...</td>\n",
       "      <td>...</td>\n",
       "      <td>...</td>\n",
       "    </tr>\n",
       "    <tr>\n",
       "      <th></th>\n",
       "      <td>...</td>\n",
       "      <td>...</td>\n",
       "      <td>...</td>\n",
       "      <td>...</td>\n",
       "      <td>...</td>\n",
       "    </tr>\n",
       "    <tr>\n",
       "      <th></th>\n",
       "      <td>...</td>\n",
       "      <td>...</td>\n",
       "      <td>...</td>\n",
       "      <td>...</td>\n",
       "      <td>...</td>\n",
       "    </tr>\n",
       "  </tbody>\n",
       "</table>\n",
       "</div>\n",
       "<div>Dask Name: getitem, 3508 tasks</div>"
      ],
      "text/plain": [
       "Dask DataFrame Structure:\n",
       "                           time        data_source counts           pkg_name         pkg_python\n",
       "npartitions=877                                                                                \n",
       "                 datetime64[ns]  category[unknown]  int64  category[unknown]  category[unknown]\n",
       "                            ...                ...    ...                ...                ...\n",
       "...                         ...                ...    ...                ...                ...\n",
       "                            ...                ...    ...                ...                ...\n",
       "                            ...                ...    ...                ...                ...\n",
       "Dask Name: getitem, 3508 tasks"
      ]
     },
     "execution_count": 14,
     "metadata": {},
     "output_type": "execute_result"
    }
   ],
   "source": [
    "df_conda_forge_only"
   ]
  },
  {
   "cell_type": "code",
   "execution_count": 63,
   "metadata": {},
   "outputs": [],
   "source": [
    "df_period_py = df_conda_forge_only.groupby(\n",
    "    [df_conda_forge_only.time.dt.to_period('D'), df_conda_forge_only.pkg_python]\n",
    ").counts.sum().compute()"
   ]
  },
  {
   "cell_type": "code",
   "execution_count": 64,
   "metadata": {},
   "outputs": [
    {
     "data": {
      "text/html": [
       "<div>\n",
       "<style scoped>\n",
       "    .dataframe tbody tr th:only-of-type {\n",
       "        vertical-align: middle;\n",
       "    }\n",
       "\n",
       "    .dataframe tbody tr th {\n",
       "        vertical-align: top;\n",
       "    }\n",
       "\n",
       "    .dataframe thead th {\n",
       "        text-align: right;\n",
       "    }\n",
       "</style>\n",
       "<table border=\"1\" class=\"dataframe\">\n",
       "  <thead>\n",
       "    <tr style=\"text-align: right;\">\n",
       "      <th></th>\n",
       "      <th>pkg_python</th>\n",
       "      <th>counts</th>\n",
       "    </tr>\n",
       "    <tr>\n",
       "      <th>time</th>\n",
       "      <th></th>\n",
       "      <th></th>\n",
       "    </tr>\n",
       "  </thead>\n",
       "  <tbody>\n",
       "    <tr>\n",
       "      <th>2017-03-29</th>\n",
       "      <td></td>\n",
       "      <td>41032</td>\n",
       "    </tr>\n",
       "    <tr>\n",
       "      <th>2017-03-29</th>\n",
       "      <td>2.7</td>\n",
       "      <td>32246</td>\n",
       "    </tr>\n",
       "    <tr>\n",
       "      <th>2017-03-29</th>\n",
       "      <td>3.4</td>\n",
       "      <td>2381</td>\n",
       "    </tr>\n",
       "    <tr>\n",
       "      <th>2017-03-29</th>\n",
       "      <td>3.5</td>\n",
       "      <td>25041</td>\n",
       "    </tr>\n",
       "    <tr>\n",
       "      <th>2017-03-29</th>\n",
       "      <td>3.6</td>\n",
       "      <td>20409</td>\n",
       "    </tr>\n",
       "  </tbody>\n",
       "</table>\n",
       "</div>"
      ],
      "text/plain": [
       "           pkg_python  counts\n",
       "time                         \n",
       "2017-03-29              41032\n",
       "2017-03-29        2.7   32246\n",
       "2017-03-29        3.4    2381\n",
       "2017-03-29        3.5   25041\n",
       "2017-03-29        3.6   20409"
      ]
     },
     "execution_count": 64,
     "metadata": {},
     "output_type": "execute_result"
    }
   ],
   "source": [
    "df_period_py.reset_index(level=1).head()"
   ]
  },
  {
   "cell_type": "markdown",
   "metadata": {},
   "source": [
    "# Overall growth rate of conda-forge by downloads"
   ]
  },
  {
   "cell_type": "code",
   "execution_count": 66,
   "metadata": {},
   "outputs": [],
   "source": [
    "daily = df_period_py.reset_index(level=1)"
   ]
  },
  {
   "cell_type": "code",
   "execution_count": 68,
   "metadata": {},
   "outputs": [],
   "source": [
    "quarterly = daily.groupby(daily.index.to_series().dt.asfreq('Q')).counts.sum()"
   ]
  },
  {
   "cell_type": "code",
   "execution_count": 96,
   "metadata": {},
   "outputs": [],
   "source": [
    "quarterly_yoy_growth = (quarterly - quarterly.shift(4)) / quarterly.shift(4) * 100"
   ]
  },
  {
   "cell_type": "code",
   "execution_count": 98,
   "metadata": {},
   "outputs": [
    {
     "data": {
      "text/html": [
       "<div>\n",
       "<style scoped>\n",
       "    .dataframe tbody tr th:only-of-type {\n",
       "        vertical-align: middle;\n",
       "    }\n",
       "\n",
       "    .dataframe tbody tr th {\n",
       "        vertical-align: top;\n",
       "    }\n",
       "\n",
       "    .dataframe thead th {\n",
       "        text-align: right;\n",
       "    }\n",
       "</style>\n",
       "<table border=\"1\" class=\"dataframe\">\n",
       "  <thead>\n",
       "    <tr style=\"text-align: right;\">\n",
       "      <th></th>\n",
       "      <th>downloads</th>\n",
       "      <th>yoy_growth_perc</th>\n",
       "    </tr>\n",
       "    <tr>\n",
       "      <th>time</th>\n",
       "      <th></th>\n",
       "      <th></th>\n",
       "    </tr>\n",
       "  </thead>\n",
       "  <tbody>\n",
       "    <tr>\n",
       "      <th>2017Q1</th>\n",
       "      <td>701645</td>\n",
       "      <td>NaN</td>\n",
       "    </tr>\n",
       "    <tr>\n",
       "      <th>2017Q2</th>\n",
       "      <td>23172007</td>\n",
       "      <td>NaN</td>\n",
       "    </tr>\n",
       "    <tr>\n",
       "      <th>2017Q3</th>\n",
       "      <td>34139060</td>\n",
       "      <td>NaN</td>\n",
       "    </tr>\n",
       "    <tr>\n",
       "      <th>2017Q4</th>\n",
       "      <td>38632180</td>\n",
       "      <td>NaN</td>\n",
       "    </tr>\n",
       "    <tr>\n",
       "      <th>2018Q1</th>\n",
       "      <td>56972415</td>\n",
       "      <td>8019.834817</td>\n",
       "    </tr>\n",
       "    <tr>\n",
       "      <th>2018Q2</th>\n",
       "      <td>64620212</td>\n",
       "      <td>178.871882</td>\n",
       "    </tr>\n",
       "    <tr>\n",
       "      <th>2018Q3</th>\n",
       "      <td>98377527</td>\n",
       "      <td>188.167064</td>\n",
       "    </tr>\n",
       "    <tr>\n",
       "      <th>2018Q4</th>\n",
       "      <td>140307194</td>\n",
       "      <td>263.187358</td>\n",
       "    </tr>\n",
       "    <tr>\n",
       "      <th>2019Q1</th>\n",
       "      <td>145704942</td>\n",
       "      <td>155.746473</td>\n",
       "    </tr>\n",
       "    <tr>\n",
       "      <th>2019Q2</th>\n",
       "      <td>115412939</td>\n",
       "      <td>78.601919</td>\n",
       "    </tr>\n",
       "  </tbody>\n",
       "</table>\n",
       "</div>"
      ],
      "text/plain": [
       "        downloads  yoy_growth_perc\n",
       "time                              \n",
       "2017Q1     701645              NaN\n",
       "2017Q2   23172007              NaN\n",
       "2017Q3   34139060              NaN\n",
       "2017Q4   38632180              NaN\n",
       "2018Q1   56972415      8019.834817\n",
       "2018Q2   64620212       178.871882\n",
       "2018Q3   98377527       188.167064\n",
       "2018Q4  140307194       263.187358\n",
       "2019Q1  145704942       155.746473\n",
       "2019Q2  115412939        78.601919"
      ]
     },
     "execution_count": 98,
     "metadata": {},
     "output_type": "execute_result"
    }
   ],
   "source": [
    "pd.DataFrame({\"downloads\": quarterly, \"yoy_growth_perc\": quarterly_yoy_growth})"
   ]
  },
  {
   "cell_type": "code",
   "execution_count": 72,
   "metadata": {},
   "outputs": [],
   "source": [
    "unstacked = df_period_py.unstack()"
   ]
  },
  {
   "cell_type": "code",
   "execution_count": 73,
   "metadata": {},
   "outputs": [],
   "source": [
    "# Give this a nicer name\n",
    "unstacked.columns = [\"non-python\"] + list(unstacked.columns[1:])"
   ]
  },
  {
   "cell_type": "code",
   "execution_count": 95,
   "metadata": {},
   "outputs": [
    {
     "data": {
      "text/html": [
       "<div>\n",
       "<style scoped>\n",
       "    .dataframe tbody tr th:only-of-type {\n",
       "        vertical-align: middle;\n",
       "    }\n",
       "\n",
       "    .dataframe tbody tr th {\n",
       "        vertical-align: top;\n",
       "    }\n",
       "\n",
       "    .dataframe thead th {\n",
       "        text-align: right;\n",
       "    }\n",
       "</style>\n",
       "<table border=\"1\" class=\"dataframe\">\n",
       "  <thead>\n",
       "    <tr style=\"text-align: right;\">\n",
       "      <th></th>\n",
       "      <th>non-python</th>\n",
       "      <th>2.6</th>\n",
       "      <th>2.7</th>\n",
       "      <th>3.4</th>\n",
       "      <th>3.5</th>\n",
       "      <th>3.6</th>\n",
       "      <th>3.7</th>\n",
       "      <th>3.8</th>\n",
       "    </tr>\n",
       "    <tr>\n",
       "      <th>time</th>\n",
       "      <th></th>\n",
       "      <th></th>\n",
       "      <th></th>\n",
       "      <th></th>\n",
       "      <th></th>\n",
       "      <th></th>\n",
       "      <th></th>\n",
       "      <th></th>\n",
       "    </tr>\n",
       "  </thead>\n",
       "  <tbody>\n",
       "    <tr>\n",
       "      <th>2017-03-29</th>\n",
       "      <td>41032.0</td>\n",
       "      <td>NaN</td>\n",
       "      <td>32246.0</td>\n",
       "      <td>2381.0</td>\n",
       "      <td>25041.0</td>\n",
       "      <td>20409.0</td>\n",
       "      <td>NaN</td>\n",
       "      <td>NaN</td>\n",
       "    </tr>\n",
       "    <tr>\n",
       "      <th>2017-03-30</th>\n",
       "      <td>103080.0</td>\n",
       "      <td>NaN</td>\n",
       "      <td>72273.0</td>\n",
       "      <td>7785.0</td>\n",
       "      <td>60248.0</td>\n",
       "      <td>52200.0</td>\n",
       "      <td>NaN</td>\n",
       "      <td>NaN</td>\n",
       "    </tr>\n",
       "    <tr>\n",
       "      <th>2017-03-31</th>\n",
       "      <td>92143.0</td>\n",
       "      <td>6.0</td>\n",
       "      <td>70491.0</td>\n",
       "      <td>9720.0</td>\n",
       "      <td>60124.0</td>\n",
       "      <td>52466.0</td>\n",
       "      <td>NaN</td>\n",
       "      <td>NaN</td>\n",
       "    </tr>\n",
       "    <tr>\n",
       "      <th>2017-04-01</th>\n",
       "      <td>40828.0</td>\n",
       "      <td>NaN</td>\n",
       "      <td>30976.0</td>\n",
       "      <td>2921.0</td>\n",
       "      <td>27220.0</td>\n",
       "      <td>23451.0</td>\n",
       "      <td>NaN</td>\n",
       "      <td>NaN</td>\n",
       "    </tr>\n",
       "    <tr>\n",
       "      <th>2017-04-02</th>\n",
       "      <td>43776.0</td>\n",
       "      <td>NaN</td>\n",
       "      <td>30651.0</td>\n",
       "      <td>2568.0</td>\n",
       "      <td>26186.0</td>\n",
       "      <td>22949.0</td>\n",
       "      <td>NaN</td>\n",
       "      <td>NaN</td>\n",
       "    </tr>\n",
       "  </tbody>\n",
       "</table>\n",
       "</div>"
      ],
      "text/plain": [
       "            non-python  2.6      2.7     3.4      3.5      3.6  3.7  3.8\n",
       "time                                                                    \n",
       "2017-03-29     41032.0  NaN  32246.0  2381.0  25041.0  20409.0  NaN  NaN\n",
       "2017-03-30    103080.0  NaN  72273.0  7785.0  60248.0  52200.0  NaN  NaN\n",
       "2017-03-31     92143.0  6.0  70491.0  9720.0  60124.0  52466.0  NaN  NaN\n",
       "2017-04-01     40828.0  NaN  30976.0  2921.0  27220.0  23451.0  NaN  NaN\n",
       "2017-04-02     43776.0  NaN  30651.0  2568.0  26186.0  22949.0  NaN  NaN"
      ]
     },
     "execution_count": 95,
     "metadata": {},
     "output_type": "execute_result"
    }
   ],
   "source": [
    "unstacked.head()"
   ]
  },
  {
   "cell_type": "code",
   "execution_count": 103,
   "metadata": {},
   "outputs": [
    {
     "data": {
      "text/plain": [
       "<matplotlib.axes._subplots.AxesSubplot at 0x7f6b1a512860>"
      ]
     },
     "execution_count": 103,
     "metadata": {},
     "output_type": "execute_result"
    },
    {
     "data": {
      "image/png": "[encoded data removed]",
      "text/plain": [
       "<Figure size 1152x648 with 1 Axes>"
      ]
     },
     "metadata": {
      "needs_background": "light"
     },
     "output_type": "display_data"
    }
   ],
   "source": [
    "unstacked.asfreq('M').stack().groupby(level=0).sum().plot.line(\n",
    "    figsize=(16,9),\n",
    "    title=\"Total packages downloaded by month, by python version requirement\"\n",
    ")"
   ]
  },
  {
   "cell_type": "code",
   "execution_count": 94,
   "metadata": {},
   "outputs": [
    {
     "data": {
      "text/plain": [
       "<matplotlib.axes._subplots.AxesSubplot at 0x7f6af7056048>"
      ]
     },
     "execution_count": 94,
     "metadata": {},
     "output_type": "execute_result"
    },
    {
     "data": {
      "image/png": "[encoded data removed]",
      "text/plain": [
       "<Figure size 1152x648 with 1 Axes>"
      ]
     },
     "metadata": {
      "needs_background": "light"
     },
     "output_type": "display_data"
    }
   ],
   "source": [
    "unstacked.groupby(unstacked.asfreq('M').index).sum().plot.line(\n",
    "    figsize=(16,9),\n",
    "    title=\"Packages downloaded by month, by python version requirement\"\n",
    ")"
   ]
  },
  {
   "cell_type": "markdown",
   "metadata": {},
   "source": [
    "# Most popular packages"
   ]
  },
  {
   "cell_type": "code",
   "execution_count": 80,
   "metadata": {},
   "outputs": [],
   "source": [
    "total_package_downloads = df_conda_forge_only.groupby(df_conda_forge_only.pkg_name).counts.sum().compute()"
   ]
  },
  {
   "cell_type": "code",
   "execution_count": 87,
   "metadata": {},
   "outputs": [],
   "source": [
    "pkg_downloads = total_package_downloads[total_package_downloads > 0].sort_values(ascending=False)"
   ]
  },
  {
   "cell_type": "code",
   "execution_count": 112,
   "metadata": {},
   "outputs": [],
   "source": [
    "pkg_perc = pkg_downloads / pkg_downloads.sum() * 100"
   ]
  },
  {
   "cell_type": "code",
   "execution_count": 113,
   "metadata": {},
   "outputs": [
    {
     "data": {
      "text/html": [
       "<div>\n",
       "<style scoped>\n",
       "    .dataframe tbody tr th:only-of-type {\n",
       "        vertical-align: middle;\n",
       "    }\n",
       "\n",
       "    .dataframe tbody tr th {\n",
       "        vertical-align: top;\n",
       "    }\n",
       "\n",
       "    .dataframe thead th {\n",
       "        text-align: right;\n",
       "    }\n",
       "</style>\n",
       "<table border=\"1\" class=\"dataframe\">\n",
       "  <thead>\n",
       "    <tr style=\"text-align: right;\">\n",
       "      <th></th>\n",
       "      <th>downloads</th>\n",
       "      <th>percentage</th>\n",
       "    </tr>\n",
       "    <tr>\n",
       "      <th>pkg_name</th>\n",
       "      <th></th>\n",
       "      <th></th>\n",
       "    </tr>\n",
       "  </thead>\n",
       "  <tbody>\n",
       "    <tr>\n",
       "      <th>certifi</th>\n",
       "      <td>12626379</td>\n",
       "      <td>1.758450</td>\n",
       "    </tr>\n",
       "    <tr>\n",
       "      <th>openssl</th>\n",
       "      <td>11193308</td>\n",
       "      <td>1.558869</td>\n",
       "    </tr>\n",
       "    <tr>\n",
       "      <th>ca-certificates</th>\n",
       "      <td>10456441</td>\n",
       "      <td>1.456247</td>\n",
       "    </tr>\n",
       "    <tr>\n",
       "      <th>conda</th>\n",
       "      <td>7711862</td>\n",
       "      <td>1.074015</td>\n",
       "    </tr>\n",
       "    <tr>\n",
       "      <th>python</th>\n",
       "      <td>7571981</td>\n",
       "      <td>1.054535</td>\n",
       "    </tr>\n",
       "    <tr>\n",
       "      <th>setuptools</th>\n",
       "      <td>6797022</td>\n",
       "      <td>0.946608</td>\n",
       "    </tr>\n",
       "    <tr>\n",
       "      <th>zlib</th>\n",
       "      <td>6366129</td>\n",
       "      <td>0.886598</td>\n",
       "    </tr>\n",
       "    <tr>\n",
       "      <th>pip</th>\n",
       "      <td>6334639</td>\n",
       "      <td>0.882212</td>\n",
       "    </tr>\n",
       "    <tr>\n",
       "      <th>sqlite</th>\n",
       "      <td>6165625</td>\n",
       "      <td>0.858674</td>\n",
       "    </tr>\n",
       "    <tr>\n",
       "      <th>wheel</th>\n",
       "      <td>6153064</td>\n",
       "      <td>0.856925</td>\n",
       "    </tr>\n",
       "    <tr>\n",
       "      <th>tk</th>\n",
       "      <td>6076110</td>\n",
       "      <td>0.846208</td>\n",
       "    </tr>\n",
       "    <tr>\n",
       "      <th>pytz</th>\n",
       "      <td>5685349</td>\n",
       "      <td>0.791787</td>\n",
       "    </tr>\n",
       "    <tr>\n",
       "      <th>six</th>\n",
       "      <td>5662464</td>\n",
       "      <td>0.788600</td>\n",
       "    </tr>\n",
       "    <tr>\n",
       "      <th>python-dateutil</th>\n",
       "      <td>5565805</td>\n",
       "      <td>0.775138</td>\n",
       "    </tr>\n",
       "    <tr>\n",
       "      <th>libpng</th>\n",
       "      <td>5334109</td>\n",
       "      <td>0.742871</td>\n",
       "    </tr>\n",
       "    <tr>\n",
       "      <th>jpeg</th>\n",
       "      <td>5324537</td>\n",
       "      <td>0.741538</td>\n",
       "    </tr>\n",
       "    <tr>\n",
       "      <th>numpy</th>\n",
       "      <td>5319361</td>\n",
       "      <td>0.740817</td>\n",
       "    </tr>\n",
       "    <tr>\n",
       "      <th>icu</th>\n",
       "      <td>5256169</td>\n",
       "      <td>0.732016</td>\n",
       "    </tr>\n",
       "    <tr>\n",
       "      <th>freetype</th>\n",
       "      <td>5169753</td>\n",
       "      <td>0.719981</td>\n",
       "    </tr>\n",
       "    <tr>\n",
       "      <th>openblas</th>\n",
       "      <td>5148201</td>\n",
       "      <td>0.716980</td>\n",
       "    </tr>\n",
       "  </tbody>\n",
       "</table>\n",
       "</div>"
      ],
      "text/plain": [
       "                 downloads  percentage\n",
       "pkg_name                              \n",
       "certifi           12626379    1.758450\n",
       "openssl           11193308    1.558869\n",
       "ca-certificates   10456441    1.456247\n",
       "conda              7711862    1.074015\n",
       "python             7571981    1.054535\n",
       "setuptools         6797022    0.946608\n",
       "zlib               6366129    0.886598\n",
       "pip                6334639    0.882212\n",
       "sqlite             6165625    0.858674\n",
       "wheel              6153064    0.856925\n",
       "tk                 6076110    0.846208\n",
       "pytz               5685349    0.791787\n",
       "six                5662464    0.788600\n",
       "python-dateutil    5565805    0.775138\n",
       "libpng             5334109    0.742871\n",
       "jpeg               5324537    0.741538\n",
       "numpy              5319361    0.740817\n",
       "icu                5256169    0.732016\n",
       "freetype           5169753    0.719981\n",
       "openblas           5148201    0.716980"
      ]
     },
     "execution_count": 113,
     "metadata": {},
     "output_type": "execute_result"
    }
   ],
   "source": [
    "pd.DataFrame({'downloads': pkg_downloads, 'percentage': pkg_perc}).head(20)"
   ]
  },
  {
   "cell_type": "markdown",
   "metadata": {},
   "source": [
    "# Total number of downloads"
   ]
  },
  {
   "cell_type": "code",
   "execution_count": 91,
   "metadata": {},
   "outputs": [
    {
     "data": {
      "text/plain": [
       "718040121"
      ]
     },
     "execution_count": 91,
     "metadata": {},
     "output_type": "execute_result"
    }
   ],
   "source": [
    "gdf = df_conda_forge_only.groupby(df_conda_forge_only.time)\n",
    "out_s = gdf.counts.sum()\n",
    "total_downloads = out_s.compute()\n",
    "sum(total_downloads)"
   ]
  }
 ],
 "metadata": {
  "kernelspec": {
   "display_name": "py36 mvn",
   "language": "python",
   "name": "py36"
  },
  "language_info": {
   "codemirror_mode": {
    "name": "ipython",
    "version": 3
   },
   "file_extension": ".py",
   "mimetype": "text/x-python",
   "name": "python",
   "nbconvert_exporter": "python",
   "pygments_lexer": "ipython3",
   "version": "3.6.7"
  }
 },
 "nbformat": 4,
 "nbformat_minor": 2
}